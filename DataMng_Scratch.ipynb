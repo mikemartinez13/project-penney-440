{
 "cells": [
  {
   "cell_type": "code",
   "execution_count": null,
   "id": "6718ca9c-0fa6-4dea-a1c5-818c88cf1899",
   "metadata": {},
   "outputs": [],
   "source": [
    "##my own code for just brute force\n",
    "\n",
    "def penney(P1_guess, P2_guess, deck):\n",
    "    player1_pot=0\n",
    "    player2_pot=0\n",
    "    start_pos=0 ##acts a traverser across the remaining deck\n",
    "    stack=len(deck) ##helps keep track of how many cards are available to look at in front of the current card (in the case of not a match we move on to the next card)\n",
    "    while stack>0:\n",
    "        if stack - start_pos <= 1: ##this is in the instance of if start_pos is 2 but stack length is 2 (or if start_pos is 1 and stack length is 2)\n",
    "            break ##if we have only 2 or 1 card left in the deck and our starting posiiton is 1 or 2 in the list\n",
    "        if len(deck)>=3: ##if its possible to look at 3 cards\n",
    "            if deck[start_pos]+deck[start_pos+1]+deck[start_pos+2] == P1_guess: ##look at the card and the next 2\n",
    "                player1_pot+=(start_pos+3) \n",
    "                deck=deck[start_pos+3:] #takes the current card and 2 cards in front from the deck\n",
    "                stack=len(deck) ##resetting the total amt of cards we can look at in front of the current card\n",
    "                start_pos=0 ##resets the starting position to 0\n",
    "                continue\n",
    "            if deck[start_pos]+deck[start_pos+1]+deck[start_pos+2] == P2_guess:\n",
    "                player2_pot+=(start_pos+3)\n",
    "                deck=deck[start_pos+3:]\n",
    "                stack=len(deck)\n",
    "                start_pos=0\n",
    "                continue\n",
    "            stack-=1 ##reduces the amt of total cards we can look at \n",
    "            start_pos+=1 ##moves on to the next card as the first card in the 3 card combo\n",
    "    if player1_pot>player2_pot:\n",
    "        return ('P1 wins')\n",
    "    elif player2_pot>player1_pot:\n",
    "        return('P2 wins')\n",
    "    else:\n",
    "        return ('draw')"
   ]
  },
  {
   "cell_type": "code",
   "execution_count": 1,
   "id": "31b027ef-d197-47ae-93e3-767d23f387ad",
   "metadata": {},
   "outputs": [],
   "source": [
    "##data management will recieve number of cards each player recieves, as well as number of tricks each player wins\n",
    "import random\n",
    "import numpy as np"
   ]
  },
  {
   "cell_type": "code",
   "execution_count": 16,
   "id": "6d7d758f-1ca4-4531-8ada-9ec87c2f38de",
   "metadata": {},
   "outputs": [
    {
     "data": {
      "text/plain": [
       "[16, 36]"
      ]
     },
     "execution_count": 16,
     "metadata": {},
     "output_type": "execute_result"
    }
   ],
   "source": [
    "x=np.random.randint(1,52)\n",
    "y=52-x\n",
    "test=[x,y]\n",
    "test"
   ]
  },
  {
   "cell_type": "code",
   "execution_count": null,
   "id": "e8008b52-3fdf-49ee-b252-23ec858f5799",
   "metadata": {},
   "outputs": [],
   "source": [
    "test_out=[16,36,2,4]\n",
    "p1_card_hits=0\n",
    "p2_card_hits=0\n",
    "\n",
    "p1_trick_hits=0\n",
    "p2_trick_hits=0\n",
    "\n",
    "def who_wins(p1_guess, p2_guess, p1_pot, p2_pot, p1_tricks,p2_tricks):\n",
    "    if p1_pot>p2_pot:\n",
    "        ##here would be add an entry to the database where\n",
    "        ##needs to correlate with the guess combo so we know what I guess each entry in the P1 guess and P2 guess columns \n",
    "        ##would need to use the INSERT INTO command for SQL\n",
    "    if p1_tricks>p2_tricks:\n",
    "        \n",
    "    elif p2_pot>p1_pot:\n",
    "        ###add entry to db making it so win\n",
    "    else: ##(p2_tricks>p1_tricks):\n",
    "    \n",
    "\n",
    "\n",
    "        ##need to decide on what cols should be in db \n",
    "        \n",
    "##when finding new probabilites can record the length of the database and then take hte the average of whatver the person wants\n",
    "##need to make function in which we can retrieve these results and format it into a 8 x8 array, and then put it in a dictionary with keys --variation 1 vs variation 2\n",
    "        \n",
    "##"
   ]
  },
  {
   "cell_type": "code",
   "execution_count": null,
   "id": "959a2a6a-6c14-43b7-abe9-7c3c6e889b07",
   "metadata": {},
   "outputs": [],
   "source": [
    "##for SQL\n",
    "##got from intro_sql-part1\n",
    "# .fetchone() to get one result\n",
    "# .fetchmany()\n",
    "# .fetchall()"
   ]
  },
  {
   "cell_type": "code",
   "execution_count": 65,
   "id": "ba6bfecf-abf0-466e-b135-7b7750025c3b",
   "metadata": {},
   "outputs": [],
   "source": [
    "import sqlite3\n",
    "import pandas as pd"
   ]
  },
  {
   "cell_type": "code",
   "execution_count": 66,
   "id": "e0e1c7ae-60ca-4f3c-acd3-fb2e1512b202",
   "metadata": {},
   "outputs": [],
   "source": [
    "import penney_db\n",
    "from importlib import reload\n",
    "reload(penney_db);\n",
    "from  penney_db import DB"
   ]
  },
  {
   "cell_type": "code",
   "execution_count": 67,
   "id": "c633af67-b376-41e2-a22c-33dcdfc68969",
   "metadata": {},
   "outputs": [],
   "source": [
    "d = DB('../Automation_Workflow/test.db', create=True)"
   ]
  },
  {
   "cell_type": "code",
   "execution_count": 68,
   "id": "5c085ef5-8603-498a-bae0-478176822daf",
   "metadata": {},
   "outputs": [],
   "source": [
    "d.build_tables()"
   ]
  },
  {
   "cell_type": "code",
   "execution_count": 69,
   "id": "48b26fd3-4afb-4c3a-8cea-999a089f7b6e",
   "metadata": {},
   "outputs": [
    {
     "data": {
      "text/html": [
       "<div>\n",
       "<style scoped>\n",
       "    .dataframe tbody tr th:only-of-type {\n",
       "        vertical-align: middle;\n",
       "    }\n",
       "\n",
       "    .dataframe tbody tr th {\n",
       "        vertical-align: top;\n",
       "    }\n",
       "\n",
       "    .dataframe thead th {\n",
       "        text-align: right;\n",
       "    }\n",
       "</style>\n",
       "<table border=\"1\" class=\"dataframe\">\n",
       "  <thead>\n",
       "    <tr style=\"text-align: right;\">\n",
       "      <th></th>\n",
       "      <th>id</th>\n",
       "      <th>p1_guess</th>\n",
       "      <th>p2_guess</th>\n",
       "      <th>p1_cards</th>\n",
       "      <th>p2_cards</th>\n",
       "      <th>p1_tricks</th>\n",
       "      <th>p2_tricks</th>\n",
       "      <th>win_cards</th>\n",
       "      <th>win_tricks</th>\n",
       "    </tr>\n",
       "  </thead>\n",
       "  <tbody>\n",
       "  </tbody>\n",
       "</table>\n",
       "</div>"
      ],
      "text/plain": [
       "Empty DataFrame\n",
       "Columns: [id, p1_guess, p2_guess, p1_cards, p2_cards, p1_tricks, p2_tricks, win_cards, win_tricks]\n",
       "Index: []"
      ]
     },
     "execution_count": 69,
     "metadata": {},
     "output_type": "execute_result"
    }
   ],
   "source": [
    "sql ='''\n",
    "SELECT * FROM tPenney\n",
    "\n",
    ";'''\n",
    "d.run_query(sql)"
   ]
  },
  {
   "cell_type": "code",
   "execution_count": 70,
   "id": "fd5a5eaa-5363-4e3d-bfa0-cdd26ca3d698",
   "metadata": {},
   "outputs": [],
   "source": [
    "##test_out=[111, 000, 36,16,2,4]\n",
    "d.who_wins('111','000',36,16,2,4)"
   ]
  },
  {
   "cell_type": "code",
   "execution_count": 71,
   "id": "094b0871-4802-4685-94b3-123cd54c52dc",
   "metadata": {},
   "outputs": [
    {
     "data": {
      "text/html": [
       "<div>\n",
       "<style scoped>\n",
       "    .dataframe tbody tr th:only-of-type {\n",
       "        vertical-align: middle;\n",
       "    }\n",
       "\n",
       "    .dataframe tbody tr th {\n",
       "        vertical-align: top;\n",
       "    }\n",
       "\n",
       "    .dataframe thead th {\n",
       "        text-align: right;\n",
       "    }\n",
       "</style>\n",
       "<table border=\"1\" class=\"dataframe\">\n",
       "  <thead>\n",
       "    <tr style=\"text-align: right;\">\n",
       "      <th></th>\n",
       "      <th>id</th>\n",
       "      <th>p1_guess</th>\n",
       "      <th>p2_guess</th>\n",
       "      <th>p1_cards</th>\n",
       "      <th>p2_cards</th>\n",
       "      <th>p1_tricks</th>\n",
       "      <th>p2_tricks</th>\n",
       "      <th>win_cards</th>\n",
       "      <th>win_tricks</th>\n",
       "    </tr>\n",
       "  </thead>\n",
       "  <tbody>\n",
       "    <tr>\n",
       "      <th>0</th>\n",
       "      <td>1</td>\n",
       "      <td>111</td>\n",
       "      <td>000</td>\n",
       "      <td>36</td>\n",
       "      <td>16</td>\n",
       "      <td>2</td>\n",
       "      <td>4</td>\n",
       "      <td>p1</td>\n",
       "      <td>p2</td>\n",
       "    </tr>\n",
       "  </tbody>\n",
       "</table>\n",
       "</div>"
      ],
      "text/plain": [
       "   id p1_guess p2_guess  p1_cards  p2_cards  p1_tricks  p2_tricks win_cards  \\\n",
       "0   1      111      000        36        16          2          4        p1   \n",
       "\n",
       "  win_tricks  \n",
       "0         p2  "
      ]
     },
     "execution_count": 71,
     "metadata": {},
     "output_type": "execute_result"
    }
   ],
   "source": [
    "sql ='''\n",
    "SELECT * FROM tPenney\n",
    "\n",
    ";'''\n",
    "d.run_query(sql)"
   ]
  },
  {
   "cell_type": "code",
   "execution_count": null,
   "id": "a927a0b8-ca77-49ed-aa5d-2139cdef916f",
   "metadata": {},
   "outputs": [],
   "source": [
    "##HAVE TO MAKE THE GUESS INPUTS STRINGS OR ELSE 000 COMBO WILL READ AS 0"
   ]
  },
  {
   "cell_type": "code",
   "execution_count": null,
   "id": "7681ec60-a877-49df-8020-2f8ae477e055",
   "metadata": {},
   "outputs": [],
   "source": [
    "##then need to create a function that will calculate the probability of winning for each combination (so like SUM of SELECT WHERE p1_guess == 111 and p2_guess=000)\n",
    "##then need to create a get_array function that will return the probabilites associated with every combination"
   ]
  },
  {
   "cell_type": "code",
   "execution_count": null,
   "id": "d046b434-5348-4f78-9c71-ecad98ba4077",
   "metadata": {},
   "outputs": [],
   "source": [
    "test_out=[111, 000, 36,16,2,4]\n",
    "p1_card_hits=0\n",
    "p2_card_hits=0\n",
    "\n",
    "p1_trick_hits=0\n",
    "p2_trick_hits=0\n",
    "\n",
    "def who_wins(p1_guess, p2_guess, p1_pot, p2_pot, p1_tricks,p2_tricks):\n",
    "    if p1_pot>p2_pot:\n",
    "        ##here would be add an entry to the database where\n",
    "        ##needs to correlate with the guess combo so we know what I guess each entry in the P1 guess and P2 guess columns \n",
    "        ##would need to use the INSERT INTO command for SQL\n",
    "        win_cards='p1'\n",
    "        win_tricks='p2'\n",
    "        sql= '''\n",
    "            INSERT INTO t (p1_guess, p2_guess, p1_cards, p2_cards, p1_tricks, p2_tricks,win_cards, win_tricks)\n",
    "            VALUES (:p1_guess, :p2_guess, :p1_cards, :p2_cards, p1_tricks, p2_tricks, win_cards, win_tricks);\n",
    "\n",
    "        '''\n",
    "        d.run_(sql, ((p1_guess, p2_guess, p1_pot, p2_pot, p1_tricks,p2_tricks, win_cards, win_tricks)))\n",
    "   "
   ]
  },
  {
   "cell_type": "code",
   "execution_count": 76,
   "id": "76c62c40-cf99-49a0-a6e9-154e9ea4a0d1",
   "metadata": {},
   "outputs": [],
   "source": [
    "d.close()"
   ]
  },
  {
   "cell_type": "code",
   "execution_count": null,
   "id": "22039702-6f03-4056-8402-79f47830ca94",
   "metadata": {},
   "outputs": [],
   "source": [
    "##need to make 64 cases of random inputs to the db (where 1 case is 1 combo\n",
    "\n",
    "##we coudl potentially make the primary keys a combo b/w p1guess and p2guess but then we'd lose the specificity of a certain amt of cards winning over th eother in one instance"
   ]
  },
  {
   "cell_type": "code",
   "execution_count": null,
   "id": "3292f875-317c-48fb-b17b-a65b166cc645",
   "metadata": {},
   "outputs": [],
   "source": [
    "##making 10000 games"
   ]
  }
 ],
 "metadata": {
  "kernelspec": {
   "display_name": "Python 3 (ipykernel)",
   "language": "python",
   "name": "python3"
  },
  "language_info": {
   "codemirror_mode": {
    "name": "ipython",
    "version": 3
   },
   "file_extension": ".py",
   "mimetype": "text/x-python",
   "name": "python",
   "nbconvert_exporter": "python",
   "pygments_lexer": "ipython3",
   "version": "3.11.6"
  }
 },
 "nbformat": 4,
 "nbformat_minor": 5
}
