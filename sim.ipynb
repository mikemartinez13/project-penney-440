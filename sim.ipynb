{
 "cells": [
  {
   "cell_type": "code",
   "execution_count": 171,
   "id": "7d4fff8b-b98b-4d7e-ac15-90b3364216d5",
   "metadata": {},
   "outputs": [],
   "source": [
    "import time\n",
    "import numpy as np\n",
    "import random\n",
    "import re\n",
    "from typing import List, Tuple"
   ]
  },
  {
   "cell_type": "markdown",
   "id": "9aad0e91-4232-4b29-a0d0-5bae9255bba1",
   "metadata": {},
   "source": [
    "Naive simulation of the game with lists. Red is 0, Blue is 1:"
   ]
  },
  {
   "cell_type": "code",
   "execution_count": 129,
   "id": "961f6350-fdfa-443d-a643-ec3a287a1086",
   "metadata": {},
   "outputs": [],
   "source": [
    "rcards = ['1'] * 26 \n",
    "bcards = ['0'] * 26\n",
    "cards = rcards+bcards # total 52 cards\n",
    "total = []\n",
    "ngames = 1000000\n",
    "\n",
    "for gamenum in range(ngames):\n",
    "    random.seed(gamenum)\n",
    "    random.shuffle(cards)\n",
    "    #print(cards)\n",
    "    total.append(''.join(cards))\n"
   ]
  },
  {
   "cell_type": "code",
   "execution_count": 130,
   "id": "804e4cf5-ddf8-43a4-830f-5777491207da",
   "metadata": {},
   "outputs": [
    {
     "data": {
      "text/plain": [
       "'0100011010011011000001011110011010101101010110011001'"
      ]
     },
     "execution_count": 130,
     "metadata": {},
     "output_type": "execute_result"
    }
   ],
   "source": [
    "total[0]"
   ]
  },
  {
   "cell_type": "markdown",
   "id": "c09fb04d-5ef0-4181-839c-7727f2f211b1",
   "metadata": {},
   "source": [
    "### The order:\n",
    "- for each type of guess (8 of them)\n",
    "- for ngames of each guess\n",
    "- calculate the results and probabilities"
   ]
  },
  {
   "cell_type": "code",
   "execution_count": null,
   "id": "380e9b06-9dfe-4309-bfb2-38b841a5e85d",
   "metadata": {},
   "outputs": [],
   "source": [
    "sequences = [\n",
    "    '111',\n",
    "    '110',\n",
    "    ''\n",
    "]"
   ]
  },
  {
   "cell_type": "code",
   "execution_count": 53,
   "id": "39e9ae64-2988-4638-9038-45f588bddac9",
   "metadata": {},
   "outputs": [],
   "source": [
    "def penney(P1_guess, P2_guess, deck):\n",
    "    player1_pot=0\n",
    "    player2_pot=0\n",
    "    start_pos=0 ##acts a traverser across the remaining deck\n",
    "    stack=len(deck) ##helps keep track of how many cards are available to look at in front of the current card (in the case of not a match we move on to the next card)\n",
    "    while stack>0:\n",
    "        if stack - start_pos <= 1: ##this is in the instance of if start_pos is 2 but stack length is 2 (or if start_pos is 1 and stack length is 2)\n",
    "            break ##if we have only 2 or 1 card left in the deck and our starting posiiton is 1 or 2 in the list\n",
    "        if len(deck)>=3: ##if its possible to look at 3 cards\n",
    "            if deck[start_pos]+deck[start_pos+1]+deck[start_pos+2] == P1_guess: ##look at the card and the next 2\n",
    "                player1_pot+=(start_pos+3) \n",
    "                deck=deck[start_pos+3:] #takes the current card and 2 cards in front from the deck\n",
    "                stack=len(deck) ##resetting the total amt of cards we can look at in front of the current card\n",
    "                start_pos=0 ##resets the starting position to 0\n",
    "                continue\n",
    "            if deck[start_pos]+deck[start_pos+1]+deck[start_pos+2] == P2_guess:\n",
    "                player2_pot+=(start_pos+3)\n",
    "                deck=deck[start_pos+3:]\n",
    "                stack=len(deck)\n",
    "                start_pos=0\n",
    "                continue\n",
    "            stack-=1 ##reduces the amt of total cards we can look at \n",
    "            start_pos+=1 ##moves on to the next card as the first card in the 3 card combo\n",
    "    if player1_pot>player2_pot:\n",
    "        return ('P1 wins')\n",
    "    elif player2_pot>player1_pot:\n",
    "        return('P2 wins')\n",
    "    else:\n",
    "        return ('draw')"
   ]
  },
  {
   "cell_type": "code",
   "execution_count": 54,
   "id": "32e63729-8c29-48ee-83f7-8cb840f02340",
   "metadata": {},
   "outputs": [
    {
     "ename": "KeyboardInterrupt",
     "evalue": "",
     "output_type": "error",
     "traceback": [
      "\u001b[1;31m---------------------------------------------------------------------------\u001b[0m",
      "\u001b[1;31mKeyboardInterrupt\u001b[0m                         Traceback (most recent call last)",
      "Cell \u001b[1;32mIn[54], line 1\u001b[0m\n\u001b[1;32m----> 1\u001b[0m \u001b[43mpenney\u001b[49m\u001b[43m(\u001b[49m\u001b[38;5;124;43m'\u001b[39;49m\u001b[38;5;124;43mBBB\u001b[39;49m\u001b[38;5;124;43m'\u001b[39;49m\u001b[43m,\u001b[49m\u001b[38;5;124;43m'\u001b[39;49m\u001b[38;5;124;43mRBB\u001b[39;49m\u001b[38;5;124;43m'\u001b[39;49m\u001b[43m,\u001b[49m\u001b[43mtotal\u001b[49m\u001b[43m[\u001b[49m\u001b[38;5;241;43m4\u001b[39;49m\u001b[43m]\u001b[49m\u001b[43m)\u001b[49m\n",
      "Cell \u001b[1;32mIn[53], line 9\u001b[0m, in \u001b[0;36mpenney\u001b[1;34m(P1_guess, P2_guess, deck)\u001b[0m\n\u001b[0;32m      7\u001b[0m \u001b[38;5;28;01mif\u001b[39;00m stack \u001b[38;5;241m-\u001b[39m start_pos \u001b[38;5;241m<\u001b[39m\u001b[38;5;241m=\u001b[39m \u001b[38;5;241m1\u001b[39m: \u001b[38;5;66;03m##this is in the instance of if start_pos is 2 but stack length is 2 (or if start_pos is 1 and stack length is 2)\u001b[39;00m\n\u001b[0;32m      8\u001b[0m     \u001b[38;5;28;01mbreak\u001b[39;00m \u001b[38;5;66;03m##if we have only 2 or 1 card left in the deck and our starting posiiton is 1 or 2 in the list\u001b[39;00m\n\u001b[1;32m----> 9\u001b[0m \u001b[38;5;28;01mif\u001b[39;00m \u001b[38;5;28;43mlen\u001b[39;49m\u001b[43m(\u001b[49m\u001b[43mdeck\u001b[49m\u001b[43m)\u001b[49m\u001b[38;5;241;43m>\u001b[39;49m\u001b[38;5;241;43m=\u001b[39;49m\u001b[38;5;241;43m3\u001b[39;49m: \u001b[38;5;66;03m##if its possible to look at 3 cards\u001b[39;00m\n\u001b[0;32m     10\u001b[0m     \u001b[38;5;28;01mif\u001b[39;00m deck[start_pos]\u001b[38;5;241m+\u001b[39mdeck[start_pos\u001b[38;5;241m+\u001b[39m\u001b[38;5;241m1\u001b[39m]\u001b[38;5;241m+\u001b[39mdeck[start_pos\u001b[38;5;241m+\u001b[39m\u001b[38;5;241m2\u001b[39m] \u001b[38;5;241m==\u001b[39m P1_guess: \u001b[38;5;66;03m##look at the card and the next 2\u001b[39;00m\n\u001b[0;32m     11\u001b[0m         player1_pot\u001b[38;5;241m+\u001b[39m\u001b[38;5;241m=\u001b[39m(start_pos\u001b[38;5;241m+\u001b[39m\u001b[38;5;241m3\u001b[39m) \n",
      "\u001b[1;31mKeyboardInterrupt\u001b[0m: "
     ]
    }
   ],
   "source": [
    "penney('BBB','RBB',total[4])"
   ]
  },
  {
   "cell_type": "code",
   "execution_count": 63,
   "id": "e879b7e2-e3d0-4765-85e8-a094d024e531",
   "metadata": {},
   "outputs": [
    {
     "data": {
      "text/plain": [
       "['011', '011', '011', '011', '011']"
      ]
     },
     "execution_count": 63,
     "metadata": {},
     "output_type": "execute_result"
    }
   ],
   "source": [
    "re.findall('011',total[4])"
   ]
  },
  {
   "cell_type": "code",
   "execution_count": 89,
   "id": "43a76a6a-8c6b-4f84-b551-4e948c18faf3",
   "metadata": {},
   "outputs": [
    {
     "data": {
      "text/plain": [
       "True"
      ]
     },
     "execution_count": 89,
     "metadata": {},
     "output_type": "execute_result"
    }
   ],
   "source": [
    "bool(1<2)"
   ]
  },
  {
   "cell_type": "code",
   "execution_count": 161,
   "id": "3cae582e-ac59-4c94-b587-d2dc1c84e926",
   "metadata": {},
   "outputs": [],
   "source": [
    "# here, p1 win is 1 and p2 win is 0\n",
    "# Also, B = 1 and R = 0\n",
    "outcomes = []\n",
    "\n",
    "for sequence in total:\n",
    "    stack = []\n",
    "    p1score = 0\n",
    "    p2score = 0\n",
    "    #string = ''.join(sequence)\n",
    "    for card in sequence:\n",
    "        stack.append(card)\n",
    "        #if len(stack) >=3:\n",
    "        curstack = ''.join(stack[-3:])\n",
    "        if curstack == '111':\n",
    "            p1score += 1 # using \"trick\" method to count\n",
    "            #p1score += len(stack)\n",
    "            #stack = stack[:-3]\n",
    "            stack = []\n",
    "        elif curstack == '110':\n",
    "            p2score += 1\n",
    "            #p2score += len(stack)\n",
    "            #stack = stack[:-3]\n",
    "            stack = []\n",
    "    outcome = '1' if p1score > p2score else '0' if p2score > p1score else 'T'\n",
    "    outcomes.append(outcome)\n",
    "    # print(p1score)\n",
    "    # print(p2score)\n",
    "prob_p2 = outcomes.count('0')/len(outcomes) \n",
    "prob_p1 = outcomes.count('1')/len(outcomes)\n",
    "prob_tie = 1 - prob_p2 - prob_p1"
   ]
  },
  {
   "cell_type": "markdown",
   "id": "76f14637-8873-415f-8d68-114555ab8b0f",
   "metadata": {},
   "source": [
    "There might be a bug in this code somewhere...\n",
    "\n",
    "Got it. The right scoring method for trick is a trick appears, take the whole deck and count it as one \"trick\". Your score increases by one. You don't count all the cards."
   ]
  },
  {
   "cell_type": "code",
   "execution_count": 155,
   "id": "00cd6e3d-03cb-4c66-8a58-71731baab761",
   "metadata": {},
   "outputs": [
    {
     "name": "stdout",
     "output_type": "stream",
     "text": [
      "['0']\n",
      "['0', '1']\n",
      "['0', '1', '0']\n",
      "['0', '1', '0', '0']\n",
      "['0', '1', '0', '0', '0']\n",
      "['0', '1', '0', '0', '0', '1']\n",
      "['0', '1', '0', '0', '0', '1', '1']\n",
      "['0']\n",
      "['0', '1']\n",
      "['0', '1', '0']\n",
      "['0', '1', '0', '0']\n",
      "['0', '1', '0', '0', '1']\n",
      "['0', '1', '0', '0', '1', '1']\n",
      "['0']\n",
      "['0', '1']\n",
      "['0', '1', '1']\n",
      "['0']\n",
      "['0', '0']\n",
      "['0', '0', '0']\n",
      "['0', '0', '0', '0']\n",
      "['0', '0', '0', '0', '0']\n",
      "['0', '0', '0', '0', '0', '1']\n",
      "['0', '0', '0', '0', '0', '1', '0']\n",
      "['0', '0', '0', '0', '0', '1', '0', '1']\n",
      "['0', '0', '0', '0', '0', '1', '0', '1', '1']\n",
      "['1']\n",
      "['1', '1']\n",
      "['1', '1', '0']\n",
      "['1', '1', '0', '0']\n",
      "['1', '1', '0', '0', '1']\n",
      "['1', '1', '0', '0', '1', '1']\n",
      "['0']\n",
      "['0', '1']\n",
      "['0', '1', '0']\n",
      "['0', '1', '0', '1']\n",
      "['0', '1', '0', '1', '0']\n",
      "['0', '1', '0', '1', '0', '1']\n",
      "['0', '1', '0', '1', '0', '1', '1']\n",
      "['0']\n",
      "['0', '1']\n",
      "['0', '1', '0']\n",
      "['0', '1', '0', '1']\n",
      "['0', '1', '0', '1', '0']\n",
      "['0', '1', '0', '1', '0', '1']\n",
      "['0', '1', '0', '1', '0', '1', '1']\n",
      "['0']\n",
      "['0', '0']\n",
      "['0', '0', '1']\n",
      "['0', '0', '1', '1']\n",
      "['0']\n",
      "['0', '0']\n",
      "['0', '0', '1']\n",
      "0\n",
      "8\n"
     ]
    }
   ],
   "source": [
    "stack = []\n",
    "p1score = 0\n",
    "p2score = 0\n",
    "for card in total[0]:\n",
    "    stack.append(card)\n",
    "    #if len(stack) >=3:\n",
    "    curstack = ''.join(stack[-3:])\n",
    "    print(stack)\n",
    "    if curstack == '111':\n",
    "        #print(curstack)\n",
    "        p1score += 1 # using \"trick\" method to count\n",
    "        #p1score += len(stack)\n",
    "        #stack = stack[:-3]\n",
    "        stack = []\n",
    "    elif curstack == '011':\n",
    "        #print(curstack)\n",
    "        p2score += 1\n",
    "        #p2score += len(stack)\n",
    "        #tack = stack[:-3]\n",
    "        stack = []\n",
    "    # this is accurate to the wikipedia entry online\n",
    "print(p1score)\n",
    "print(p2score)"
   ]
  },
  {
   "cell_type": "code",
   "execution_count": 162,
   "id": "9678c7e8-13bb-42bb-a469-32ca87dedea2",
   "metadata": {},
   "outputs": [
    {
     "data": {
      "text/plain": [
       "0.801443"
      ]
     },
     "execution_count": 162,
     "metadata": {},
     "output_type": "execute_result"
    }
   ],
   "source": [
    "prob_p2"
   ]
  },
  {
   "cell_type": "code",
   "execution_count": 163,
   "id": "993d03ba-32dd-4000-a58d-051fbab8a317",
   "metadata": {},
   "outputs": [
    {
     "data": {
      "text/plain": [
       "0.115709"
      ]
     },
     "execution_count": 163,
     "metadata": {},
     "output_type": "execute_result"
    }
   ],
   "source": [
    "prob_p1"
   ]
  },
  {
   "cell_type": "code",
   "execution_count": 164,
   "id": "026c9abd-5b88-4c02-9b83-c0b9ceb51188",
   "metadata": {},
   "outputs": [
    {
     "data": {
      "text/plain": [
       "0.08284799999999998"
      ]
     },
     "execution_count": 164,
     "metadata": {},
     "output_type": "execute_result"
    }
   ],
   "source": [
    "prob_tie"
   ]
  },
  {
   "cell_type": "markdown",
   "id": "0d26cf56-5e93-406b-9033-686d911dea31",
   "metadata": {},
   "source": [
    "Package all of it into a function: "
   ]
  },
  {
   "cell_type": "code",
   "execution_count": 172,
   "id": "968469f8-d6d8-4681-ae99-9b9a6ec23c08",
   "metadata": {},
   "outputs": [],
   "source": [
    "\n",
    "\n",
    "def simulate(p1guess: str, p2guess: str, sequences: List[str]) -> Tuple[float,float,float]:  # using the \"trick\" method\n",
    "    outcomes = []\n",
    "    \n",
    "    for seq in sequences:\n",
    "        stack = [] # to keep track of the cards\n",
    "        p1score = 0\n",
    "        p2score = 0\n",
    "\n",
    "        for card in seq:\n",
    "            stack.append(card)\n",
    "            #if len(stack) >=3:\n",
    "            curstack = ''.join(stack[-3:])\n",
    "            if curstack == p1guess:\n",
    "                p1score += 1 \n",
    "                stack = []\n",
    "            elif curstack == p2guess:\n",
    "                p2score += 1\n",
    "                stack = []\n",
    "        outcome = '1' if p1score > p2score else '0' if p2score > p1score else 'T'\n",
    "        outcomes.append(outcome)\n",
    "\n",
    "    prob_p2 = outcomes.count('0')/len(outcomes) \n",
    "    prob_p1 = outcomes.count('1')/len(outcomes)\n",
    "    prob_tie = 1 - prob_p2 - prob_p1\n",
    "\n",
    "    return prob_p2, prob_p1, prob_tie"
   ]
  },
  {
   "cell_type": "code",
   "execution_count": 175,
   "id": "a665c855-1e9c-4097-9ad6-e82d828f7615",
   "metadata": {},
   "outputs": [
    {
     "name": "stdout",
     "output_type": "stream",
     "text": [
      "0.994836 0.001141 0.004022999999999947\n"
     ]
    }
   ],
   "source": [
    "probs = simulate(p1guess = '111', p2guess = '011', sequences = total)\n",
    "print(probs[0], probs[1], probs[2])"
   ]
  },
  {
   "cell_type": "markdown",
   "id": "2c840886-94ae-485e-b9ca-56522336a8e0",
   "metadata": {},
   "source": [
    "This is value approximates the probabilities in the Wikipedia entry for Penney's Game under the section \"Variation with playing cards\"."
   ]
  },
  {
   "cell_type": "code",
   "execution_count": null,
   "id": "0165ed18-1310-4687-b9c5-e28001232d6d",
   "metadata": {},
   "outputs": [],
   "source": []
  }
 ],
 "metadata": {
  "kernelspec": {
   "display_name": "Python 3 (ipykernel)",
   "language": "python",
   "name": "python3"
  },
  "language_info": {
   "codemirror_mode": {
    "name": "ipython",
    "version": 3
   },
   "file_extension": ".py",
   "mimetype": "text/x-python",
   "name": "python",
   "nbconvert_exporter": "python",
   "pygments_lexer": "ipython3",
   "version": "3.10.9"
  }
 },
 "nbformat": 4,
 "nbformat_minor": 5
}
