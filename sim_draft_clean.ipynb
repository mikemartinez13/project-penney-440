{
 "cells": [
  {
   "cell_type": "code",
   "execution_count": 2,
   "id": "4ecb9827",
   "metadata": {},
   "outputs": [],
   "source": [
    "import time\n",
    "import numpy as np\n",
    "import random\n",
    "import re\n",
    "from typing import List, Tuple\n",
    "import pandas"
   ]
  },
  {
   "cell_type": "code",
   "execution_count": null,
   "id": "c539ec1a",
   "metadata": {},
   "outputs": [],
   "source": [
    "# base pseudocode\n",
    "def whole_simulation(seed, num_run):\n",
    "    game_df = pd.DataFrame()\n",
    "    decks = gen_function(seed, num_run)\n",
    "    for deck in decks:\n",
    "        for p1_seq in ['000', '001', '010', '011', '100', '101', '110', '111']:\n",
    "            for p2_seq in ['000', '001', '010', '011', '100', '101', '110', '111']:\n",
    "                p1_num_tricks, p2_num_tricks, p1_num_cards, p2_num_cards = game_function(deck, p1_seq, p2_seq)\n",
    "                game_df.append([seed, deck, p1_seq, p2_seq, p1_num_tricks, p2_num_tricks, p1_num_cards, p2_num_cards])"
   ]
  }
 ],
 "metadata": {
  "kernelspec": {
   "display_name": "Python 3 (ipykernel)",
   "language": "python",
   "name": "python3"
  },
  "language_info": {
   "codemirror_mode": {
    "name": "ipython",
    "version": 3
   },
   "file_extension": ".py",
   "mimetype": "text/x-python",
   "name": "python",
   "nbconvert_exporter": "python",
   "pygments_lexer": "ipython3",
   "version": "3.11.5"
  }
 },
 "nbformat": 4,
 "nbformat_minor": 5
}
