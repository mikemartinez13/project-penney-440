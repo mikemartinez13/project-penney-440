{
 "cells": [
  {
   "cell_type": "markdown",
   "metadata": {
    "jp-MarkdownHeadingCollapsed": true
   },
   "source": [
    "# Project Penney Checkpoint 2\n",
    "### Paola Gonzalez, Mary Virginia Nye, David Cho, Dev Saxena\n",
    "---\n",
    "Input specifications: Data from the simulation team should come in a binary string format, i.e. '01000010...'\n",
    "- Parameters\n",
    "    - deck: takes in a binary string representing the deck or 'play'\n",
    "    - seq1: represents the play sequence chosen by Player 1\n",
    "    - seq2: represents the play sequence chosen by Player 2\n",
    "\n",
    "Output specifications: Card and trick counts for the given deck for both Player 1 & Player 2. Formatted as 4 integers in one tuple.\n",
    "- Return Values\n",
    "    - p1_cards: represents Player 1 card count for given deck\n",
    "    - p2_cards: represents Player 2 card count for given deck\n",
    "    - p1_tricks: represents Player 1 trick count for given deck\n",
    "    - p2_tricks: represents Player 2 trick count for given deck\n"
   ]
  },
  {
   "cell_type": "code",
   "execution_count": 4,
   "metadata": {},
   "outputs": [],
   "source": [
    "## score deck function \n",
    "def score_deck(deck: str, seq1: str, seq2: str) -> tuple[int, int, int, int]:\n",
    "\n",
    "        p1_cards, p2_cards, p1_tricks, p2_tricks = 0, 0, 0, 0\n",
    "\n",
    "        current_pile = []\n",
    "\n",
    "        k = 0\n",
    "        while k <= len(deck) - 3:\n",
    "            sequence = deck[k:k+3]\n",
    "\n",
    "            if sequence == seq1:\n",
    "                p1_cards += len(current_pile) + 3\n",
    "                current_pile = []\n",
    "                p1_tricks += 1\n",
    "                k += 3\n",
    "            elif sequence == seq2:\n",
    "                p2_cards += len(current_pile) + 3\n",
    "                current_pile = []\n",
    "                p2_tricks += 1\n",
    "                k += 3\n",
    "            else:\n",
    "                current_pile.append(deck[k])\n",
    "                k += 1\n",
    "\n",
    "        return p1_cards, p2_cards, p1_tricks, p2_tricks"
   ]
  },
  {
   "cell_type": "markdown",
   "metadata": {},
   "source": [
    "## How It Works\n",
    "\n",
    "The 'score_deck' function takes in three strings: the 'deck', the player 1 sequence 'seq1', and the player 2 sequence 'seq2'. It initializes the counts for both players' cards and tricks and creates an empty list for the pile. The code iterates through the deck using the index 'k.' The 'sequence' variable slides through the deck 3 cards at a time looking for a match. If a match is not found, the first card of the sequence, k, is added to the pile. If a match is found the player's respective trick count ('p1_tricks' and 'p2_tricks') is incremented by 1, and in terms of card amount, the winner recieves the number of unmatched \"cards\" in current_pile, plus three additional \"cards\" for the matching sequence (added to'p1_cards' and 'p2_cards' respectively). Additionally, the 'current_pile' becomes an empty list again to simulate the empty card pile. This loop continues until all of the 'deck' has been searched through. It then returns the final counts for each players' cards and tricks. "
   ]
  },
  {
   "cell_type": "markdown",
   "metadata": {},
   "source": [
    "## Testing"
   ]
  },
  {
   "cell_type": "code",
   "execution_count": 2,
   "metadata": {},
   "outputs": [
    {
     "data": {
      "text/plain": [
       "(26, 25, 7, 4)"
      ]
     },
     "execution_count": 2,
     "metadata": {},
     "output_type": "execute_result"
    }
   ],
   "source": [
    "#Example1\n",
    "deck = '1111010101100101010101000111111100000110001001000101'\n",
    "seq1 = '010'\n",
    "seq2 = '110'\n",
    "\n",
    "score_deck(deck, seq1, seq2)"
   ]
  },
  {
   "cell_type": "code",
   "execution_count": 3,
   "metadata": {},
   "outputs": [
    {
     "data": {
      "text/plain": [
       "(3, 12, 1, 2)"
      ]
     },
     "execution_count": 3,
     "metadata": {},
     "output_type": "execute_result"
    }
   ],
   "source": [
    "#Example 2\n",
    "deck = '000111110111011'\n",
    "seq1 = '000'\n",
    "seq2 = '011'\n",
    "\n",
    "score_deck(deck, seq1, seq2)"
   ]
  },
  {
   "cell_type": "markdown",
   "metadata": {},
   "source": [
    "## Storing Processed Data"
   ]
  },
  {
   "cell_type": "markdown",
   "metadata": {},
   "source": [
    "For future storing, we will use a matrix for total decks simulation results stored in a JSON file. The JSON file will have 8 columns (seq1, seq2, p1_cards, p2_cards, p1_tricks, p2_tricks, wincards, wintricks). wincards will be 1 if Player 1 wins based on cards, 2 if Player 2 wins based on cards, or 0 if there is a tie. wintricks will be 1 if Player 1 wins based on tricks, 2 if Player 2 wins based on tricks or 0 if there is a tie. "
   ]
  }
 ],
 "metadata": {
  "kernelspec": {
   "display_name": "Python 3 (ipykernel)",
   "language": "python",
   "name": "python3"
  },
  "language_info": {
   "codemirror_mode": {
    "name": "ipython",
    "version": 3
   },
   "file_extension": ".py",
   "mimetype": "text/x-python",
   "name": "python",
   "nbconvert_exporter": "python",
   "pygments_lexer": "ipython3",
   "version": "3.12.4"
  }
 },
 "nbformat": 4,
 "nbformat_minor": 4
}
