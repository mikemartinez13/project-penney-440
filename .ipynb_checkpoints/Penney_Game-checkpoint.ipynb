{
 "cells": [
  {
   "cell_type": "code",
   "execution_count": null,
   "id": "6718ca9c-0fa6-4dea-a1c5-818c88cf1899",
   "metadata": {},
   "outputs": [],
   "source": [
    "def penney(P1_guess, P2_guess, deck):\n",
    "    player1_pot=0\n",
    "    player2_pot=0\n",
    "    start_pos=0 ##acts a traverser across the remaining deck\n",
    "    stack=len(deck) ##helps keep track of how many cards are available to look at in front of the current card (in the case of not a match we move on to the next card)\n",
    "    while stack>0:\n",
    "        if stack - start_pos <= 1: ##this is in the instance of if start_pos is 2 but stack length is 2 (or if start_pos is 1 and stack length is 2)\n",
    "            break ##if we have only 2 or 1 card left in the deck and our starting posiiton is 1 or 2 in the list\n",
    "        if len(deck)>=3: ##if its possible to look at 3 cards\n",
    "            if deck[start_pos]+deck[start_pos+1]+deck[start_pos+2] == P1_guess: ##look at the card and the next 2\n",
    "                player1_pot+=(start_pos+3) \n",
    "                deck=deck[start_pos+3:] #takes the current card and 2 cards in front from the deck\n",
    "                stack=len(deck) ##resetting the total amt of cards we can look at in front of the current card\n",
    "                start_pos=0 ##resets the starting position to 0\n",
    "                continue\n",
    "            if deck[start_pos]+deck[start_pos+1]+deck[start_pos+2] == P2_guess:\n",
    "                player2_pot+=(start_pos+3)\n",
    "                deck=deck[start_pos+3:]\n",
    "                stack=len(deck)\n",
    "                start_pos=0\n",
    "                continue\n",
    "            stack-=1 ##reduces the amt of total cards we can look at \n",
    "            start_pos+=1 ##moves on to the next card as the first card in the 3 card combo\n",
    "    if player1_pot>player2_pot:\n",
    "        return ('P1 wins')\n",
    "    elif player2_pot>player1_pot:\n",
    "        return('P2 wins')\n",
    "    else:\n",
    "        return ('draw')"
   ]
  }
 ],
 "metadata": {
  "kernelspec": {
   "display_name": "Python 3 (ipykernel)",
   "language": "python",
   "name": "python3"
  },
  "language_info": {
   "codemirror_mode": {
    "name": "ipython",
    "version": 3
   },
   "file_extension": ".py",
   "mimetype": "text/x-python",
   "name": "python",
   "nbconvert_exporter": "python",
   "pygments_lexer": "ipython3",
   "version": "3.10.9"
  }
 },
 "nbformat": 4,
 "nbformat_minor": 5
}
