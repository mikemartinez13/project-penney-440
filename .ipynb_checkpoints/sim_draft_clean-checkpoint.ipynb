{
 "cells": [
  {
   "cell_type": "code",
   "execution_count": 2,
   "id": "4ecb9827",
   "metadata": {},
   "outputs": [],
   "source": [
    "import time\n",
    "import numpy as np\n",
    "import random\n",
    "import re\n",
    "from typing import List, Tuple\n",
    "import pandas as pd"
   ]
  },
  {
   "cell_type": "code",
   "execution_count": null,
   "id": "c539ec1a",
   "metadata": {},
   "outputs": [],
   "source": [
    "# naive deck generation\n",
    "\n",
    "def gen_function(seed, num_run):\n",
    "    rcards = ['1'] * 26 \n",
    "    bcards = ['0'] * 26\n",
    "    cards = rcards+bcards # total 52 cards\n",
    "    total = []\n",
    "\n",
    "    for gamenum in range(num_run):\n",
    "        random.seed(seed)\n",
    "        random.shuffle(cards)\n",
    "        #print(cards)\n",
    "        total.append(int(''.join(cards), 2))\n",
    "    return total"
   ]
  },
  {
   "cell_type": "code",
   "execution_count": null,
   "id": "c86399ea",
   "metadata": {},
   "outputs": [],
   "source": [
    "def game_function(deck, p1_seq, p2_seq):\n",
    "    outcomes = []\n",
    "    stack = [] # to keep track of the cards\n",
    "    p1_num_tricks = 0\n",
    "    p2_num_tricks = 0\n",
    "    p1_num_cards = 0\n",
    "    p2_num_cards = 0\n",
    "    deck = bin(deck)[2:]\n",
    "    \n",
    "    for card in deck:\n",
    "        stack.append(card)\n",
    "        curstack = ''.join(stack[-3:])\n",
    "        if curstack == p1_seq:\n",
    "            p1_num_tricks += 1\n",
    "            p1_num_cards += len(stack)\n",
    "            stack = []\n",
    "        elif curstack == p2_seq:\n",
    "            p2_num_tricks += 1\n",
    "            p2_num_cards += len(stack)\n",
    "            stack = []\n",
    "    return p1_num_tricks, p2_num_tricks, p1_num_cards, p2_num_cards"
   ]
  },
  {
   "cell_type": "code",
   "execution_count": null,
   "id": "910f4eea",
   "metadata": {},
   "outputs": [],
   "source": [
    "# base pseudocode\n",
    "def whole_simulation(seed, num_run):\n",
    "    i = 0\n",
    "    game_df = pd.DataFrame(columns = ['seed', 'deck', 'p1_seq', 'p2_seq', 'p1_num_tricks', 'p2_num_tricks', 'p1_num_cards', 'p2_num_cards'])\n",
    "    decks = gen_function(seed, num_run)\n",
    "    for deck in decks:\n",
    "        for p1_seq in ['000', '001', '010', '011', '100', '101', '110', '111']:\n",
    "            for p2_seq in ['000', '001', '010', '011', '100', '101', '110', '111']:\n",
    "                p1_num_tricks, p2_num_tricks, p1_num_cards, p2_num_cards = game_function(deck, p1_seq, p2_seq)\n",
    "                game_df.loc[i] = [seed, deck, p1_seq, p2_seq, p1_num_tricks, p2_num_tricks, p1_num_cards, p2_num_cards]\n",
    "                i += 1\n",
    "    return game_df"
   ]
  },
  {
   "cell_type": "code",
   "execution_count": null,
   "id": "a5a754d1",
   "metadata": {},
   "outputs": [],
   "source": [
    "whole_simulation(1, 10)"
   ]
  }
 ],
 "metadata": {
  "kernelspec": {
   "display_name": "Python 3 (ipykernel)",
   "language": "python",
   "name": "python3"
  },
  "language_info": {
   "codemirror_mode": {
    "name": "ipython",
    "version": 3
   },
   "file_extension": ".py",
   "mimetype": "text/x-python",
   "name": "python",
   "nbconvert_exporter": "python",
   "pygments_lexer": "ipython3",
   "version": "3.11.5"
  }
 },
 "nbformat": 4,
 "nbformat_minor": 5
}
